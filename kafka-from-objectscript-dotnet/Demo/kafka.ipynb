{
 "cells": [
  {
   "cell_type": "markdown",
   "metadata": {},
   "source": [
    "## Re-entrancy Object Demo\n",
    "Demonstrates how to load and use an assemby from ObjectScript and then use that object to call back into ObjectScript"
   ]
  },
  {
   "cell_type": "markdown",
   "metadata": {},
   "source": [
    "Start a gateway for .NET"
   ]
  },
  {
   "cell_type": "code",
   "execution_count": 52,
   "metadata": {},
   "outputs": [
    {
     "name": "stdout",
     "output_type": "stream",
     "text": []
    }
   ],
   "source": [
    "set st = ##class(%Net.Remote.Service).OpenGateway(\"DotNet Gateway\",.OG)\n",
    "set status = ##class(%Net.Remote.Service).StartGateway(OG.Name)"
   ]
  },
  {
   "cell_type": "markdown",
   "metadata": {},
   "source": [
    "(1) Load the Assembly"
   ]
  },
  {
   "cell_type": "code",
   "execution_count": 53,
   "metadata": {},
   "outputs": [
    {
     "name": "stdout",
     "output_type": "stream",
     "text": []
    }
   ],
   "source": [
    "set assemblyPath = ##class(%ListOfDataTypes).%New()\n",
    "do assemblyPath.Insert(\"C:\\Users\\rkuszews\\Iris\\LanguageInterop\\languageinterop-dotnet\\example\\example\\bin\\Debug\\example.dll\")\n",
    "\n",
    "// Connect a Gateway instance to server \"DotNet Gateway\" on the host machine\n",
    "set GW = ##class(%Net.Remote.Gateway).%New()\n",
    "set st = GW.%Connect(OG.Server, OG.Port, \"USER\",,assemblyPath)"
   ]
  },
  {
   "cell_type": "markdown",
   "metadata": {},
   "source": [
    "(2) Create our object"
   ]
  },
  {
   "cell_type": "code",
   "execution_count": 54,
   "metadata": {},
   "outputs": [
    {
     "name": "stdout",
     "output_type": "stream",
     "text": [
      "proxyKafka=53@%Net.Remote.Object  ; <OREF>\r\n",
      "+----------------- general information ---------------\r\n",
      "|      oref value: 53\r\n",
      "|      class name: %Net.Remote.Object\r\n",
      "| reference count: 2\r\n",
      "+----------------- attribute values ------------------\r\n",
      "|           (none)\r\n",
      "+----------------- swizzled references ---------------\r\n",
      "|         i%%gateway = \"\"\r\n",
      "|         r%%gateway = \"54@%Net.Remote.Gateway\"\r\n",
      "+-----------------------------------------------------\r\n"
     ]
    }
   ],
   "source": [
    "set proxyKafka = ##class(%Net.Remote.Object).%New(GW,\"example.kafka\")\n",
    "zw proxyKafka"
   ]
  },
  {
   "cell_type": "markdown",
   "metadata": {},
   "source": [
    "(3) and (4) Manipulate our object"
   ]
  },
  {
   "cell_type": "code",
   "execution_count": 55,
   "metadata": {},
   "outputs": [
    {
     "name": "stdout",
     "output_type": "stream",
     "text": []
    }
   ],
   "source": [
    "do proxyKafka.startConsumer(\"my-topic\")"
   ]
  },
  {
   "cell_type": "markdown",
   "metadata": {},
   "source": [
    "(5) (6) and (7) Check for new messages on the topic.  For each of them, create and save a new object in ObjectScript"
   ]
  },
  {
   "cell_type": "code",
   "execution_count": 56,
   "metadata": {},
   "outputs": [
    {
     "name": "stdout",
     "output_type": "stream",
     "text": []
    }
   ],
   "source": [
    "do proxyKafka.consumePendingMessages()"
   ]
  },
  {
   "cell_type": "code",
   "execution_count": 57,
   "metadata": {},
   "outputs": [
    {
     "name": "stdout",
     "output_type": "stream",
     "text": []
    }
   ],
   "source": [
    "do proxyKafka.stopConsumer()"
   ]
  },
  {
   "cell_type": "markdown",
   "metadata": {},
   "source": [
    "Shut the gateway down"
   ]
  },
  {
   "cell_type": "code",
   "execution_count": 58,
   "metadata": {},
   "outputs": [
    {
     "name": "stdout",
     "output_type": "stream",
     "text": []
    }
   ],
   "source": [
    "set st = GW.%Disconnect()\n",
    "set st =  ##class(%Net.Remote.Service).StopGatewayObject(OG)"
   ]
  },
  {
   "cell_type": "code",
   "execution_count": 59,
   "metadata": {},
   "outputs": [
    {
     "name": "stdout",
     "output_type": "stream",
     "text": [
      "st=1\r\n"
     ]
    }
   ],
   "source": [
    "zw st"
   ]
  },
  {
   "cell_type": "code",
   "execution_count": null,
   "metadata": {},
   "outputs": [],
   "source": []
  }
 ],
 "metadata": {
  "kernelspec": {
   "display_name": "ObjectScript",
   "language": "",
   "name": "objectscriptkernel"
  },
  "language_info": {
   "file_extension": ".cls",
   "mimetype": "text/plain",
   "name": "Arbitrary"
  }
 },
 "nbformat": 4,
 "nbformat_minor": 4
}
