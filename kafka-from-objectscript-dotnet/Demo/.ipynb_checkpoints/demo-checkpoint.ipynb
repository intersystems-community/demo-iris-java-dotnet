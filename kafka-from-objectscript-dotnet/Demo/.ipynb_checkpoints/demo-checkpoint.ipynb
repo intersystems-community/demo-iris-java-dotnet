{
 "cells": [
  {
   "cell_type": "markdown",
   "metadata": {},
   "source": [
    "## Simple Object Demo\n",
    "Demonstrates how to load and use an assemby from ObjectScript"
   ]
  },
  {
   "cell_type": "markdown",
   "metadata": {},
   "source": [
    "Start a gateway for .NET"
   ]
  },
  {
   "cell_type": "code",
   "execution_count": 1,
   "metadata": {},
   "outputs": [
    {
     "name": "stdout",
     "output_type": "stream",
     "text": []
    }
   ],
   "source": [
    "set st = ##class(%Net.Remote.Service).OpenGateway(\"DotNet Gateway\",.OG)\n",
    "set status = ##class(%Net.Remote.Service).StartGateway(OG.Name)"
   ]
  },
  {
   "cell_type": "markdown",
   "metadata": {},
   "source": [
    "(1) Load the Assembly"
   ]
  },
  {
   "cell_type": "code",
   "execution_count": 3,
   "metadata": {},
   "outputs": [
    {
     "name": "stdout",
     "output_type": "stream",
     "text": []
    }
   ],
   "source": [
    "set assemblyPath = ##class(%ListOfDataTypes).%New()\n",
    "do assemblyPath.Insert(\"C:\\Users\\rkuszews\\Iris\\LanguageInterop\\languageinterop-dotnet\\example\\example\\bin\\Debug\\example.dll\")\n",
    "\n",
    "// Connect a Gateway instance to server \"DotNet Gateway\" on the host machine\n",
    "set GW = ##class(%Net.Remote.Gateway).%New()\n",
    "set st = GW.%Connect(OG.Server, OG.Port, \"USER\",,assemblyPath)"
   ]
  },
  {
   "cell_type": "markdown",
   "metadata": {},
   "source": [
    "(2) Create our object"
   ]
  },
  {
   "cell_type": "code",
   "execution_count": 4,
   "metadata": {},
   "outputs": [
    {
     "name": "stdout",
     "output_type": "stream",
     "text": [
      "myObject=15@%Net.Remote.Object  ; <OREF>\r\n",
      "+----------------- general information ---------------\r\n",
      "|      oref value: 15\r\n",
      "|      class name: %Net.Remote.Object\r\n",
      "| reference count: 2\r\n",
      "+----------------- attribute values ------------------\r\n",
      "|           (none)\r\n",
      "+----------------- swizzled references ---------------\r\n",
      "|         i%%gateway = \"\"\r\n",
      "|         r%%gateway = \"5@%Net.Remote.Gateway\"\r\n",
      "+-----------------------------------------------------\r\n"
     ]
    }
   ],
   "source": [
    "set myObject = ##class(%Net.Remote.Object).%New(GW,\"example.Fruit\")\n",
    "zw myObject"
   ]
  },
  {
   "cell_type": "markdown",
   "metadata": {},
   "source": [
    "(3) and (4) Manipulate our object"
   ]
  },
  {
   "cell_type": "code",
   "execution_count": 5,
   "metadata": {},
   "outputs": [
    {
     "name": "stdout",
     "output_type": "stream",
     "text": [
      "\r\n",
      "Current fruit preference: \r\n",
      "   "
     ]
    }
   ],
   "source": [
    "write !,\"Current fruit preference: \",!,\"   \"_myObject.getFruit()"
   ]
  },
  {
   "cell_type": "code",
   "execution_count": 6,
   "metadata": {},
   "outputs": [
    {
     "name": "stdout",
     "output_type": "stream",
     "text": [
      "\r\n",
      "Fruit preference is: \r\n",
      "   Jujube"
     ]
    }
   ],
   "source": [
    "do myObject.setFruit(\"Blueberry\")\n",
    "write !,\"Fruit preference is: \",!,\"   \"_myObject.getFruit()"
   ]
  },
  {
   "cell_type": "markdown",
   "metadata": {},
   "source": [
    "Shut the gateway down"
   ]
  },
  {
   "cell_type": "code",
   "execution_count": 7,
   "metadata": {},
   "outputs": [
    {
     "name": "stdout",
     "output_type": "stream",
     "text": []
    }
   ],
   "source": [
    "set st = GW.%Disconnect()\n",
    "set st =  ##class(%Net.Remote.Service).StopGatewayObject(OG)"
   ]
  },
  {
   "cell_type": "code",
   "execution_count": 8,
   "metadata": {},
   "outputs": [
    {
     "name": "stdout",
     "output_type": "stream",
     "text": [
      "st=1\r\n"
     ]
    }
   ],
   "source": [
    "zw st"
   ]
  },
  {
   "cell_type": "code",
   "execution_count": null,
   "metadata": {},
   "outputs": [],
   "source": []
  }
 ],
 "metadata": {
  "kernelspec": {
   "display_name": "ObjectScript",
   "language": "",
   "name": "objectscriptkernel"
  },
  "language_info": {
   "file_extension": ".cls",
   "mimetype": "text/plain",
   "name": "Arbitrary"
  }
 },
 "nbformat": 4,
 "nbformat_minor": 4
}
